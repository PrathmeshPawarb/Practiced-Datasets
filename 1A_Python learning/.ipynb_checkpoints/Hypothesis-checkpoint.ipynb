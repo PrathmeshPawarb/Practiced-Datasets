{
 "cells": [
  {
   "cell_type": "code",
   "execution_count": 1,
   "id": "bcdc7ae3",
   "metadata": {},
   "outputs": [],
   "source": [
    "from scipy import stats"
   ]
  },
  {
   "cell_type": "code",
   "execution_count": 6,
   "id": "4593f630",
   "metadata": {},
   "outputs": [],
   "source": [
    "import pandas as pd\n",
    "import numpy as np\n",
    "import matplotlib.pyplot as plt\n",
    "import seaborn as sns\n",
    "\n",
    "import warnings\n",
    "warnings.filterwarnings('ignore')"
   ]
  },
  {
   "cell_type": "code",
   "execution_count": 3,
   "id": "3d998d3d",
   "metadata": {},
   "outputs": [
    {
     "data": {
      "text/plain": [
       "2.009575234489209"
      ]
     },
     "execution_count": 3,
     "metadata": {},
     "output_type": "execute_result"
    }
   ],
   "source": [
    "stats.t.ppf(0.975,49)"
   ]
  },
  {
   "cell_type": "markdown",
   "id": "58a44494",
   "metadata": {},
   "source": [
    "### one sample test"
   ]
  },
  {
   "cell_type": "code",
   "execution_count": 9,
   "id": "63af427d",
   "metadata": {},
   "outputs": [
    {
     "data": {
      "text/plain": [
       "TtestResult(statistic=1.5528897904066086, pvalue=0.16439291801758163, df=7)"
      ]
     },
     "execution_count": 9,
     "metadata": {},
     "output_type": "execute_result"
    }
   ],
   "source": [
    "data = pd.Series([0.593,0.142,0.259,0.456,0.258,0.356,0.456,0.762])\n",
    "\n",
    "\n",
    "stats.ttest_1samp(data,0.3)\n",
    "\n",
    "\n",
    "#here p value 0.164 which is far more than 0.05   ====so null hypothesis accepted "
   ]
  },
  {
   "cell_type": "markdown",
   "id": "e7e75f7e",
   "metadata": {},
   "source": [
    "### two sample test"
   ]
  },
  {
   "cell_type": "code",
   "execution_count": 10,
   "id": "daad8b7d",
   "metadata": {},
   "outputs": [
    {
     "data": {
      "text/plain": [
       "Ttest_indResult(statistic=-3.4456126735364876, pvalue=0.006272124350809803)"
      ]
     },
     "execution_count": 10,
     "metadata": {},
     "output_type": "execute_result"
    }
   ],
   "source": [
    "control = pd.Series([91,87,99,77,88,91])\n",
    "treat = pd.Series([101,110,103,93,99,104])\n",
    "\n",
    "\n",
    "stats.ttest_ind(control, treat)\n",
    "\n",
    "#here p value 0.006 which is far less than 0.05    =====so Alternated hypotesis accepted "
   ]
  },
  {
   "cell_type": "markdown",
   "id": "fd9feeae",
   "metadata": {},
   "source": [
    "### two proportion test"
   ]
  },
  {
   "cell_type": "code",
   "execution_count": 11,
   "id": "9f228020",
   "metadata": {},
   "outputs": [],
   "source": [
    "n1=247\n",
    "p1=0.37\n",
    "\n",
    "n2=308\n",
    "p2=0.39"
   ]
  },
  {
   "cell_type": "code",
   "execution_count": null,
   "id": "c2490832",
   "metadata": {},
   "outputs": [],
   "source": [
    "pop1=\n",
    "pop2="
   ]
  },
  {
   "cell_type": "code",
   "execution_count": null,
   "id": "c0278abe",
   "metadata": {},
   "outputs": [],
   "source": []
  }
 ],
 "metadata": {
  "kernelspec": {
   "display_name": "Python 3 (ipykernel)",
   "language": "python",
   "name": "python3"
  },
  "language_info": {
   "codemirror_mode": {
    "name": "ipython",
    "version": 3
   },
   "file_extension": ".py",
   "mimetype": "text/x-python",
   "name": "python",
   "nbconvert_exporter": "python",
   "pygments_lexer": "ipython3",
   "version": "3.11.3"
  }
 },
 "nbformat": 4,
 "nbformat_minor": 5
}
