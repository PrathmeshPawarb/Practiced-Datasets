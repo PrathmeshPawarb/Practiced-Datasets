{
 "cells": [
  {
   "cell_type": "code",
   "execution_count": 1,
   "id": "5211c927-19c7-4551-a63d-31be5a46a4a0",
   "metadata": {},
   "outputs": [
    {
     "name": "stdout",
     "output_type": "stream",
     "text": [
      "False\n",
      "15 <class 'int'>\n",
      "12.3658 <class 'float'>\n",
      "789 <class 'str'>\n",
      "ABC <class 'str'>\n"
     ]
    }
   ],
   "source": [
    "a = 15             #integer\n",
    "b = 12.3658        #float\n",
    "c = '789'          #string\n",
    "d = 'ABC'          #string\n",
    "\n",
    "print(a == b)      #boolean - posses only two values\n",
    "\n",
    "print(a, type(a))\n",
    "print(b, type(b))\n",
    "print(c, type(c))\n",
    "print(d, type(d))"
   ]
  }
 ],
 "metadata": {
  "kernelspec": {
   "display_name": "Python 3 (ipykernel)",
   "language": "python",
   "name": "python3"
  },
  "language_info": {
   "codemirror_mode": {
    "name": "ipython",
    "version": 3
   },
   "file_extension": ".py",
   "mimetype": "text/x-python",
   "name": "python",
   "nbconvert_exporter": "python",
   "pygments_lexer": "ipython3",
   "version": "3.11.7"
  }
 },
 "nbformat": 4,
 "nbformat_minor": 5
}
