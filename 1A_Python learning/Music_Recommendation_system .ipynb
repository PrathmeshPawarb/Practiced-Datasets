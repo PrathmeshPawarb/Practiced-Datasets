{
 "cells": [
  {
   "cell_type": "code",
   "execution_count": 4,
   "metadata": {
    "id": "Th6QzkMPrnz8"
   },
   "outputs": [],
   "source": [
    "import pandas as pd\n",
    "import numpy as np"
   ]
  },
  {
   "cell_type": "code",
   "execution_count": 5,
   "metadata": {
    "colab": {
     "base_uri": "https://localhost:8080/",
     "height": 756
    },
    "id": "s7dHcrWlJhAy",
    "outputId": "3c6aed4e-bcea-4ca3-e130-dce37d46d20a"
   },
   "outputs": [],
   "source": [
    "df = pd.read_csv('/content/dataset.csv', on_bad_lines='skip')\n",
    "df"
   ]
  },
  {
   "cell_type": "code",
   "execution_count": 6,
   "metadata": {
    "colab": {
     "base_uri": "https://localhost:8080/"
    },
    "id": "SzLvHMckJg9o",
    "outputId": "d576e215-b2c5-4b3d-f69f-fedf5bbd0a35"
   },
   "outputs": [],
   "source": [
    "df.info()"
   ]
  },
  {
   "cell_type": "code",
   "execution_count": null,
   "metadata": {
    "id": "XBqKAjNtO9Jt"
   },
   "outputs": [],
   "source": [
    "df.drop(['Unnamed: 0','track_id'], axis=1, inplace=True)"
   ]
  },
  {
   "cell_type": "code",
   "execution_count": null,
   "metadata": {
    "colab": {
     "base_uri": "https://localhost:8080/"
    },
    "id": "5IsmijF5MPcz",
    "outputId": "2ac318f7-64da-4da1-9225-be2667ac70fd"
   },
   "outputs": [],
   "source": [
    "df.isna().sum()"
   ]
  },
  {
   "cell_type": "code",
   "execution_count": null,
   "metadata": {
    "id": "gOJ42a09MV2W"
   },
   "outputs": [],
   "source": [
    "df.dropna(inplace=True)"
   ]
  },
  {
   "cell_type": "code",
   "execution_count": null,
   "metadata": {
    "colab": {
     "base_uri": "https://localhost:8080/"
    },
    "id": "uGkAF130QfwD",
    "outputId": "88f60923-4d4b-41d8-e12f-2fbcee8464d2"
   },
   "outputs": [],
   "source": [
    "df.duplicated().sum()"
   ]
  },
  {
   "cell_type": "code",
   "execution_count": null,
   "metadata": {
    "id": "7FYUy-bdRSak"
   },
   "outputs": [],
   "source": [
    "df.drop_duplicates(inplace=True)"
   ]
  },
  {
   "cell_type": "code",
   "execution_count": null,
   "metadata": {
    "colab": {
     "base_uri": "https://localhost:8080/"
    },
    "id": "a3dWm6GoRwxC",
    "outputId": "a40af085-7eb0-4a32-e3c4-90f07bbdb5df"
   },
   "outputs": [],
   "source": [
    "df.duplicated().sum()"
   ]
  },
  {
   "cell_type": "code",
   "execution_count": null,
   "metadata": {
    "colab": {
     "base_uri": "https://localhost:8080/"
    },
    "id": "qYXUbj8wMbxz",
    "outputId": "e7939140-7b46-4e59-9f35-afdb3ef01cf6"
   },
   "outputs": [],
   "source": [
    "df.isna().sum()"
   ]
  },
  {
   "cell_type": "code",
   "execution_count": null,
   "metadata": {
    "colab": {
     "base_uri": "https://localhost:8080/"
    },
    "id": "NFGEk5YlJg6t",
    "outputId": "0d85fa3c-d348-4ab4-8fc9-0f3c27f69d2e"
   },
   "outputs": [],
   "source": [
    "df['track_genre'].unique()"
   ]
  },
  {
   "cell_type": "code",
   "execution_count": null,
   "metadata": {
    "colab": {
     "base_uri": "https://localhost:8080/"
    },
    "id": "ySmjMHWWS3jS",
    "outputId": "c528ba2e-7813-4c33-c76f-e0515313b28d"
   },
   "outputs": [],
   "source": [
    "df['track_genre'].nunique()"
   ]
  },
  {
   "cell_type": "code",
   "execution_count": null,
   "metadata": {
    "colab": {
     "base_uri": "https://localhost:8080/"
    },
    "id": "Y5OO7eYMS4gh",
    "outputId": "1ac00487-2762-406b-d4ce-282111f1ad64"
   },
   "outputs": [],
   "source": [
    "df['track_genre'].value_counts()"
   ]
  },
  {
   "cell_type": "markdown",
   "metadata": {
    "id": "307TW9WPNl5U"
   },
   "source": [
    "# Genre Discription\n",
    "\n",
    "**Acoustic**: Music that primarily uses acoustic instruments (non-electric) and emphasizes natural sound.\n",
    "\n",
    "**Afrobeat**: A genre that originated in West Africa, characterized by a fusion of traditional African rhythms, jazz, highlife, and funk.\n",
    "\n",
    "**Alt-Rock (Alternative Rock)**: A broad term for rock music that doesn't fit the conventional norms, often incorporating elements from various genres.\n",
    "\n",
    "**Alternative**: A catch-all term for music that falls outside mainstream pop and rock, often characterized by unconventional sounds and structures.\n",
    "\n",
    "**Ambient**: Music that creates an atmospheric and abstract sound, often used for relaxation or background purposes.\n",
    "\n",
    "**Anime**: Music associated with Japanese animation, spanning various genres from pop to rock to electronic.\n",
    "\n",
    "**Black Metal**: A subgenre of heavy metal characterized by its dark, raw sound, shrieking vocals, and often lyrical themes related to Satanism or the occult.\n",
    "\n",
    "**Cantopop**: Popular music from Hong Kong that blends Cantonese lyrics with various musical styles.\n",
    "\n",
    "**Chicago House**: A subgenre of house music that originated in Chicago, known for its repetitive beats and use of synthesizers.\n",
    "\n",
    "**Children:** Music specifically created for or enjoyed by children, often featuring simple melodies and educational content.\n",
    "\n",
    "**Chill:** A genre focused on creating a relaxed and calming atmosphere, often with slow tempos and soothing sounds.\n",
    "\n",
    "**Classical:** A genre that encompasses a wide range of music from the Western classical tradition, often characterized by orchestral arrangements and complex compositions.\n",
    "\n",
    "**Club: Music** specifically designed for dance clubs, often associated with electronic dance music (EDM).\n",
    "\n",
    "Bluegrass: A genre of American roots music that originated in the Appalachian region, characterized by the use of acoustic instruments like banjo and fiddle.\n",
    "\n",
    "Blues: A genre that originated in African-American communities, characterized by its expressive lyrics and typically a 12-bar structure.\n",
    "\n",
    "Brazil: Music from Brazil, which encompasses a diverse range of styles including samba, bossa nova, and more.\n",
    "\n",
    "Breakbeat: A genre of electronic music with beats that emphasize drum breaks, often sampled from funk or jazz records.\n",
    "\n",
    "British: A broad term referring to music from the United Kingdom, encompassing various genres.\n",
    "\n",
    "Comedy: Music that is intentionally humorous, often featuring comedic lyrics and elements.\n",
    "\n",
    "Country: A genre of American popular music that originated in the Southern United States, often characterized by storytelling lyrics and the use of acoustic instruments.\n",
    "\n",
    "Dance: A broad category of music designed for dancing, often associated with electronic and pop genres.\n",
    "\n",
    "Dancehall: A genre of Jamaican popular music that evolved from reggae, known for its rhythmic style and deejay (toasting) vocals.\n",
    "\n",
    "Death Metal: A subgenre of heavy metal known for its aggressive and distorted guitar sound, growling vocals, and often dark lyrical themes.\n",
    "\n",
    "Deep House: A subgenre of house music known for its soulful and atmospheric sound, often characterized by slower tempos and a focus on melody.\n",
    "\n",
    "\n",
    "\n"
   ]
  },
  {
   "cell_type": "code",
   "execution_count": null,
   "metadata": {
    "colab": {
     "base_uri": "https://localhost:8080/",
     "height": 320
    },
    "id": "qkN8nFoqSJWf",
    "outputId": "3eff5a16-3581-4082-b146-b962e3dd951a"
   },
   "outputs": [],
   "source": [
    "df.describe()"
   ]
  },
  {
   "cell_type": "code",
   "execution_count": null,
   "metadata": {
    "colab": {
     "base_uri": "https://localhost:8080/"
    },
    "id": "NB7Q40LEJg4E",
    "outputId": "e73810f3-439d-4d5b-d248-14097f82f4b4"
   },
   "outputs": [],
   "source": [
    "df['track_genre'].nunique()"
   ]
  },
  {
   "cell_type": "code",
   "execution_count": null,
   "metadata": {
    "colab": {
     "base_uri": "https://localhost:8080/"
    },
    "id": "A6tVMah3Jg1d",
    "outputId": "a70b28de-3d26-4219-9d8e-fe7217e9ac28"
   },
   "outputs": [],
   "source": [
    "df['track_genre'].value_counts()"
   ]
  },
  {
   "cell_type": "code",
   "execution_count": null,
   "metadata": {
    "colab": {
     "base_uri": "https://localhost:8080/",
     "height": 739
    },
    "id": "ILHVNAUdBEQi",
    "outputId": "aa46052e-2977-404f-f80c-2fa2ece5af67"
   },
   "outputs": [],
   "source": [
    "df"
   ]
  },
  {
   "cell_type": "markdown",
   "metadata": {
    "id": "nIf8JqFH9vU8"
   },
   "source": [
    "# visualization"
   ]
  },
  {
   "cell_type": "code",
   "execution_count": null,
   "metadata": {
    "id": "qKCMRrIaJgwn"
   },
   "outputs": [],
   "source": [
    "import matplotlib.pyplot as plt\n",
    "import seaborn as sns"
   ]
  },
  {
   "cell_type": "code",
   "execution_count": null,
   "metadata": {
    "id": "y74lJN3eXgXj"
   },
   "outputs": [],
   "source": [
    "# Count the occurrences of each unique track genre\n",
    "genre_counts = df['track_genre'].value_counts()"
   ]
  },
  {
   "cell_type": "code",
   "execution_count": null,
   "metadata": {
    "colab": {
     "base_uri": "https://localhost:8080/",
     "height": 631
    },
    "id": "cmsW6MGgXiE5",
    "outputId": "27840559-bb36-4b87-e676-2e1b7b79fbb3"
   },
   "outputs": [],
   "source": [
    "plt.figure(figsize=(15, 8))\n",
    "sns.barplot(x=genre_counts.index, y=genre_counts.values, palette='viridis')\n",
    "plt.title('Distribution of Unique Track Genres')\n",
    "plt.xlabel('Track Genre')\n",
    "plt.ylabel('Count')\n",
    "plt.xticks(rotation=90)  # Rotate x-axis labels for better readability\n",
    "plt.show()"
   ]
  },
  {
   "cell_type": "code",
   "execution_count": null,
   "metadata": {
    "colab": {
     "base_uri": "https://localhost:8080/",
     "height": 913
    },
    "id": "kB--KTW7Xv8p",
    "outputId": "c3d2609b-73b8-4a55-c23a-ff8a80e2dad5"
   },
   "outputs": [],
   "source": [
    "plt.figure(figsize=(12, 12))\n",
    "plt.pie(genre_counts, labels=genre_counts.index, autopct='%1.1f%%', startangle=140)\n",
    "plt.title('Distribution of Unique Track Genres')\n",
    "plt.show()"
   ]
  },
  {
   "cell_type": "code",
   "execution_count": null,
   "metadata": {
    "colab": {
     "base_uri": "https://localhost:8080/"
    },
    "id": "vlljQ7bTZEnd",
    "outputId": "2f0c7367-8150-4693-cf83-9dbce7652496"
   },
   "outputs": [],
   "source": [
    "# Choose the top N track genres based on average popularity\n",
    "top_genres = df.groupby('track_genre')['popularity'].mean().sort_values(ascending=False).head(15).index\n",
    "top_genres"
   ]
  },
  {
   "cell_type": "code",
   "execution_count": null,
   "metadata": {
    "id": "mU4A8m9nZa5S"
   },
   "outputs": [],
   "source": [
    "# Filter the DataFrame to include only the top genres\n",
    "df_top_genres = df[df['track_genre'].isin(top_genres)]"
   ]
  },
  {
   "cell_type": "code",
   "execution_count": null,
   "metadata": {
    "colab": {
     "base_uri": "https://localhost:8080/",
     "height": 434
    },
    "id": "qjfLIdSTJguC",
    "outputId": "1c1f0101-089b-4428-e671-907a0300cfba"
   },
   "outputs": [],
   "source": [
    "# Create a bar plot for average popularity by track genre\n",
    "plt.figure(figsize=(15, 5))\n",
    "sns.barplot(x='popularity', y='track_genre',\n",
    "            data=df_top_genres, estimator=lambda x: sum(x) / len(x),\n",
    "            ci=None, order=df_top_genres.groupby('track_genre')['popularity'].mean().sort_values(ascending=False).index,\n",
    "            palette='viridis')\n",
    "plt.title('Average Popularity by Track Genre (Top 15)')\n",
    "plt.xlabel('Average Popularity')\n",
    "plt.ylabel('Track Genre')\n",
    "plt.show()"
   ]
  },
  {
   "cell_type": "code",
   "execution_count": 7,
   "metadata": {
    "colab": {
     "base_uri": "https://localhost:8080/",
     "height": 415
    },
    "id": "jRbl2TNXJgok",
    "outputId": "8bc8aabc-bb0d-4430-8eca-8f53f8404994"
   },
   "outputs": [],
   "source": [
    "plt.figure(figsize=(15,6))\n",
    "plt.subplot(211)\n",
    "sns.boxplot(x=\"track_genre\", y=\"loudness\", data=df_top_genres)\n",
    "plt.subplot(212)\n",
    "sns.boxplot(x=\"track_genre\", y=\"speechiness\", data=df_top_genres)\n",
    "plt.show()"
   ]
  },
  {
   "cell_type": "code",
   "execution_count": null,
   "metadata": {
    "colab": {
     "base_uri": "https://localhost:8080/",
     "height": 675
    },
    "id": "PlHppH9EJglr",
    "outputId": "d5fe76a4-c3d7-4e69-ddee-6c59a4b01370"
   },
   "outputs": [],
   "source": [
    "# Count the occurrences of explicit and non-explicit songs\n",
    "explicit_counts = df['explicit'].value_counts()\n",
    "\n",
    "# Create a pie chart\n",
    "plt.figure(figsize=(8, 8))\n",
    "plt.pie(explicit_counts, labels=['Non-Explicit', 'Explicit'], autopct='%1.1f%%', startangle=90, colors=['skyblue', 'salmon'])\n",
    "plt.title('Distribution of Explicit vs Non-Explicit Songs')\n",
    "plt.show()\n"
   ]
  },
  {
   "cell_type": "code",
   "execution_count": null,
   "metadata": {
    "colab": {
     "base_uri": "https://localhost:8080/",
     "height": 923
    },
    "id": "vTLriWzGfS0D",
    "outputId": "3eaf1a7f-2ee2-4a5c-ea7a-db405cb2b9dd"
   },
   "outputs": [],
   "source": [
    "#Heatmap\n",
    "# Convert the 'explicit' column to numeric for heatmap\n",
    "df['explicit'] = df['explicit'].astype(int)\n",
    "\n",
    "# Create a correlation matrix\n",
    "correlation_matrix = df.corr()\n",
    "\n",
    "# Set up the matplotlib figure\n",
    "plt.figure(figsize=(12, 10))\n",
    "\n",
    "# Create a heatmap with the correlation matrix\n",
    "sns.heatmap(correlation_matrix, annot=True, cmap='coolwarm', fmt='.2f', linewidths=.5)\n",
    "\n",
    "# Display the plot\n",
    "plt.show()"
   ]
  },
  {
   "cell_type": "code",
   "execution_count": null,
   "metadata": {
    "colab": {
     "base_uri": "https://localhost:8080/",
     "height": 739
    },
    "id": "d-K6v0zKfSxB",
    "outputId": "bead8c08-4ad5-456c-bc8d-af23e9daa16f"
   },
   "outputs": [],
   "source": [
    "df"
   ]
  },
  {
   "cell_type": "code",
   "execution_count": null,
   "metadata": {
    "colab": {
     "base_uri": "https://localhost:8080/",
     "height": 565
    },
    "id": "ZNhfZGr6fSuR",
    "outputId": "e10071af-f564-4f41-e9f2-9181dff2ac63"
   },
   "outputs": [],
   "source": [
    "df1 = df.drop(['artists','album_name'], axis=1)\n",
    "df1"
   ]
  },
  {
   "cell_type": "code",
   "execution_count": null,
   "metadata": {
    "colab": {
     "base_uri": "https://localhost:8080/",
     "height": 424
    },
    "id": "7cbL50roFL1k",
    "outputId": "21e2c7e2-1262-4686-ca2a-3a58b35e3cfc"
   },
   "outputs": [],
   "source": [
    "features = df[['danceability', 'energy', 'loudness', 'speechiness', 'acousticness',\n",
    "               'instrumentalness', 'liveness', 'valence', 'explicit']]\n",
    "features"
   ]
  },
  {
   "cell_type": "code",
   "execution_count": null,
   "metadata": {
    "id": "rx4o2nsOZNs3"
   },
   "outputs": [],
   "source": [
    "from sklearn.preprocessing import StandardScaler\n",
    "sc = StandardScaler()"
   ]
  },
  {
   "cell_type": "code",
   "execution_count": null,
   "metadata": {
    "colab": {
     "base_uri": "https://localhost:8080/"
    },
    "id": "ln01kym3ZgeG",
    "outputId": "907e796a-a92d-4de2-c1a5-21f8bd75eeb2"
   },
   "outputs": [],
   "source": [
    "features_standardized = sc.fit_transform(features)\n",
    "features_standardized"
   ]
  },
  {
   "cell_type": "code",
   "execution_count": null,
   "metadata": {
    "id": "zMLu1QPHZwVW"
   },
   "outputs": [],
   "source": [
    "from sklearn.metrics.pairwise import cosine_similarity\n",
    "\n",
    "cosine_sim = cosine_similarity(features_standardized, features_standardized)\n",
    "cosine_sim"
   ]
  },
  {
   "cell_type": "code",
   "execution_count": null,
   "metadata": {
    "id": "dQm_T6L-fSoa"
   },
   "outputs": [],
   "source": [
    "import pandas as pd\n",
    "from sklearn.metrics.pairwise import cosine_similarity\n",
    "from sklearn.preprocessing import StandardScaler\n",
    "\n",
    "# Load the dataset\n",
    "df = pd.read_csv('your_dataset.csv')  # Replace with your actual file path\n",
    "\n",
    "# Select relevant features for recommendation\n",
    "features = df[['danceability', 'energy', 'loudness', 'speechiness', 'acousticness',\n",
    "               'instrumentalness', 'liveness', 'valence']]\n",
    "\n",
    "# Standardize the features\n",
    "scaler = StandardScaler()\n",
    "features_standardized = scaler.fit_transform(features)\n",
    "\n",
    "# Calculate cosine similarity between tracks\n",
    "cosine_sim = cosine_similarity(features_standardized, features_standardized)\n",
    "\n",
    "# Function to get recommendations based on track index\n",
    "def get_recommendations(track_index, cosine_sim_matrix, df):\n",
    "    sim_scores = list(enumerate(cosine_sim_matrix[track_index]))\n",
    "    sim_scores = sorted(sim_scores, key=lambda x: x[1], reverse=True)\n",
    "    sim_scores = sim_scores[1:11]  # Exclude the track itself and get top 10 similar tracks\n",
    "\n",
    "    track_indices = [i[0] for i in sim_scores]\n",
    "\n",
    "    return df[['artists', 'album_name', 'track_name', 'popularity', 'duration_ms', 'track_genre']].iloc[track_indices]\n",
    "\n",
    "# Example: Get recommendations for track at index 0\n",
    "recommendations = get_recommendations(0, cosine_sim, df)\n",
    "print(recommendations)\n"
   ]
  },
  {
   "cell_type": "code",
   "execution_count": null,
   "metadata": {
    "id": "O4Kvy8mIfSlT"
   },
   "outputs": [],
   "source": []
  },
  {
   "cell_type": "code",
   "execution_count": null,
   "metadata": {
    "id": "qqVyRniSfSiV"
   },
   "outputs": [],
   "source": []
  }
 ],
 "metadata": {
  "colab": {
   "provenance": []
  },
  "kernelspec": {
   "display_name": "Python 3 (ipykernel)",
   "language": "python",
   "name": "python3"
  },
  "language_info": {
   "codemirror_mode": {
    "name": "ipython",
    "version": 3
   },
   "file_extension": ".py",
   "mimetype": "text/x-python",
   "name": "python",
   "nbconvert_exporter": "python",
   "pygments_lexer": "ipython3",
   "version": "3.11.3"
  }
 },
 "nbformat": 4,
 "nbformat_minor": 1
}
