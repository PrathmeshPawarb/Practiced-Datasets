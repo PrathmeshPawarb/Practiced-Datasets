{
 "cells": [
  {
   "cell_type": "code",
   "execution_count": 1,
   "id": "e69fc3a2-048a-4851-9d6b-e47609b8900e",
   "metadata": {},
   "outputs": [],
   "source": [
    "import pandas as pd\n",
    "import requests\n",
    "from bs4 import BeautifulSoup"
   ]
  },
  {
   "cell_type": "code",
   "execution_count": 7,
   "id": "a940ea26-56f0-48b2-93d0-d62e20c4af84",
   "metadata": {},
   "outputs": [],
   "source": [
    "url = \"https://www.flipkart.com/search?q=mobiles+5g&sid=tyy%2C4io&as=on&as-show=on&otracker=AS_QueryStore_OrganicAutoSuggest_1_7_na_na_na&otracker1=AS_QueryStore_OrganicAutoSuggest_1_7_na_na_na&as-pos=1&as-type=HISTORY&suggestionId=mobiles+5g%7CMobiles&requestId=edaf2482-da47-4203-a8f4-78d1ec0a52c4\""
   ]
  },
  {
   "cell_type": "code",
   "execution_count": 8,
   "id": "50c5e090-633f-4625-a016-b5fc3fa8551e",
   "metadata": {},
   "outputs": [],
   "source": [
    "r = requests.get(url)"
   ]
  },
  {
   "cell_type": "code",
   "execution_count": 9,
   "id": "d8688078-1dfd-4fec-b2ca-b4bd371dc0f2",
   "metadata": {},
   "outputs": [
    {
     "name": "stdout",
     "output_type": "stream",
     "text": [
      "<Response [500]>\n"
     ]
    }
   ],
   "source": [
    "print(r)"
   ]
  },
  {
   "cell_type": "code",
   "execution_count": 10,
   "id": "7c887bf9-64f3-4285-a026-a6a006b2340e",
   "metadata": {},
   "outputs": [
    {
     "name": "stdout",
     "output_type": "stream",
     "text": [
      "Response Status Code: 500\n",
      "Response Headers: {'content-length': '97', 'cache-control': 'no-cache', 'content-type': 'text/html'}\n",
      "Response Content: <html><body><h1>500 Internal Server Error</h1>\n",
      "An internal server error occurred.\n",
      "</body></html>\n",
      "\n"
     ]
    }
   ],
   "source": [
    "# Check the response status code\n",
    "print(\"Response Status Code:\", r.status_code)\n",
    "\n",
    "# Print the response headers\n",
    "print(\"Response Headers:\", r.headers)\n",
    "\n",
    "# Print the response content\n",
    "print(\"Response Content:\", r.text)"
   ]
  },
  {
   "cell_type": "code",
   "execution_count": 6,
   "id": "0325297a-ec9f-4647-b63b-4a36bcec40b3",
   "metadata": {},
   "outputs": [
    {
     "name": "stdout",
     "output_type": "stream",
     "text": [
      "<html>\n",
      "<head>\n",
      "<title>503 - Service Unavailable Error</title>\n",
      "</head>\n",
      "<body bgcolor=\"#FFFFFF\" text=\"#000000\">\n",
      "<!--\n",
      "        To discuss automated access to Amazon data please contact api-services-support@amazon.com.\n",
      "        For information about migrating to our APIs refer to our Marketplace APIs at https://developer.amazonservices.in/ref=rm_5_sv, or our Product Advertising API at https://affiliate-program.amazon.in/gp/advertising/api/detail/main.html/ref=rm_5_ac for advertising use cases.\n",
      "-->\n",
      "<center>\n",
      "<a href=\"https://www.amazon.in/ref=cs_503_logo/\">\n",
      "<img alt=\"Amazon.in\" border=\"0\" height=\"45\" src=\"https://images-eu.ssl-images-amazon.com/images/G/31/x-locale/communities/people/logo.gif\" width=\"200\"/></a>\n",
      "<p align=\"center\">\n",
      "<font face=\"Verdana,Arial,Helvetica\">\n",
      "<font color=\"#CC6600\" size=\"+2\"><b>Oops!</b></font><br/>\n",
      "<b>It's rush hour and traffic is piling up on that page. Please try again in a short while.<br/>If you were trying to place an order, it will not have been processed at this time.</b><p>\n",
      "<img alt=\"*\" border=\"0\" height=\"9\" src=\"https://images-eu.ssl-images-amazon.com/images/G/02/x-locale/common/orange-arrow.gif\" width=\"10\"/>\n",
      "<b><a href=\"https://www.amazon.in/ref=cs_503_link/\">Go to the Amazon.in home page to continue shopping</a></b>\n",
      "</p></font>\n",
      "</p></center>\n",
      "</body>\n",
      "</html>\n",
      "\n"
     ]
    }
   ],
   "source": [
    "soup = BeautifulSoup(r.text,\"lxml\")\n",
    "print(soup)"
   ]
  }
 ],
 "metadata": {
  "kernelspec": {
   "display_name": "Python 3 (ipykernel)",
   "language": "python",
   "name": "python3"
  },
  "language_info": {
   "codemirror_mode": {
    "name": "ipython",
    "version": 3
   },
   "file_extension": ".py",
   "mimetype": "text/x-python",
   "name": "python",
   "nbconvert_exporter": "python",
   "pygments_lexer": "ipython3",
   "version": "3.11.5"
  }
 },
 "nbformat": 4,
 "nbformat_minor": 5
}
